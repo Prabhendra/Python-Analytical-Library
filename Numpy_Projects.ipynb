{
  "nbformat": 4,
  "nbformat_minor": 0,
  "metadata": {
    "colab": {
      "provenance": []
    },
    "kernelspec": {
      "name": "python3",
      "display_name": "Python 3"
    },
    "language_info": {
      "name": "python"
    }
  },
  "cells": [
    {
      "cell_type": "markdown",
      "source": [
        "#Numpy"
      ],
      "metadata": {
        "id": "A4i29OGMOR_U"
      }
    },
    {
      "cell_type": "markdown",
      "source": [
        "1. What is a Python library? Why do we use Python libraries?"
      ],
      "metadata": {
        "id": "bTzmNV_oOWAk"
      }
    },
    {
      "cell_type": "markdown",
      "source": [
        "1. A Python library is a collection of pre-written modules or functions that we can use in your Python code. These modules and functions provide ready-made solutions for common tasks, so you don't have to write the code from scratch. Think of it like a toolbox full of tools that you can use to build your programs.\n",
        "\n",
        "2. Why do we use Python libraries?\n",
        "\n",
        "- Efficiency: Libraries save you time and effort by providing ready-to-use code for common tasks. Instead of reinventing the wheel, you can leverage existing code to speed up your development process.\n",
        "\n",
        "- Code Reusability: Libraries promote code reusability, which means you can use the same code in different projects. This reduces redundancy and makes your code more maintainable.\n",
        "\n",
        "- Modularity: Libraries are organized into modules, making it easy to find and use the specific functions you need. You can import only the modules or functions that are relevant to your task, keeping your code organized.\n",
        "\n",
        "- Community Support: Popular libraries often have large and active communities of users and developers, which means there's a lot of support available if you need help. You can find documentation, tutorials, and forums where you can ask questions and get assistance.\n",
        "\n",
        "- Specialized Functionality: Libraries provide access to specialized functionality that you might not be able to easily implement yourself. For example, libraries like NumPy and Pandas offer advanced mathematical and data manipulation capabilities.\n",
        "\n",
        "2. Examples of Python libraries:\n",
        "\n",
        "- NumPy: Provides functions for working with numerical data, including arrays, matrices, and mathematical operations.\n",
        "\n",
        "- Pandas: Provides data structures and functions for data analysis and manipulation, particularly for working with tabular data.\n",
        "\n",
        "- Matplotlib: Provides functions for creating visualizations, such as plots, charts, and graphs.\n",
        "\n",
        "- Scikit-learn: Provides tools for machine learning, including algorithms for classification, regression, clustering, and dimensionality reduction.\n",
        "\n",
        "3. By using these libraries, we can quickly and easily perform complex tasks without having to write a lot of code yourself. This allows you to focus on the specific logic of your program rather than the underlying implementation details."
      ],
      "metadata": {
        "id": "zjET9iPzE-h0"
      }
    },
    {
      "cell_type": "markdown",
      "source": [
        "2. What is the difference between Numpy array and List?"
      ],
      "metadata": {
        "id": "J0_efrAWQSfP"
      }
    },
    {
      "cell_type": "markdown",
      "source": [
        "1. NumPy Arrays\n",
        "\n",
        "- Homogeneous data type: NumPy arrays can only store elements of the same data type. This allows for efficient storage and operations.\n",
        "\n",
        "- Fixed size: NumPy arrays have a fixed size determined at creation. Changing the size requires creating a new array.\n",
        "\n",
        "- Element-wise operations: NumPy arrays support element-wise operations, meaning you can perform mathematical operations on entire arrays without looping.\n",
        "Multidimensional: NumPy arrays can have multiple dimensions, representing matrices or higher-dimensional data structures.\n",
        "\n",
        "- Efficient memory usage: NumPy arrays store data contiguously in memory, making them more memory-efficient than lists for large datasets.\n",
        "\n",
        "2. Python Lists\n",
        "\n",
        "- Heterogeneous data type: Python lists can store elements of different data types, including other lists.\n",
        "\n",
        "- Dynamic size: Python lists can grow or shrink dynamically as elements are added or removed.\n",
        "- Element access: Lists are accessed using indexing and slicing, similar to NumPy arrays.\n",
        "- One-dimensional: Lists are primarily one-dimensional, although they can contain other lists to create nested structures.\n",
        "- Flexibility: Lists are more flexible for general-purpose data storage and manipulation.\n",
        "\n",
        "3. When to use which:\n",
        "\n",
        "- NumPy arrays: Use NumPy arrays for numerical computations, scientific computing, and data analysis where performance and efficiency are crucial.\n",
        "\n",
        "- Python lists: Use Python lists for general-purpose data storage, tasks involving mixed data types, and scenarios where flexibility is more important than performance."
      ],
      "metadata": {
        "id": "MckAXNXJOtx4"
      }
    },
    {
      "cell_type": "markdown",
      "source": [
        "3. Find the shape, size and dimension of the following array?\n",
        "\n",
        "[[1, 2, 3, 4]\n",
        "\n",
        "[5, 6, 7, 8],\n",
        "\n",
        "[9, 10, 11, 12]]"
      ],
      "metadata": {
        "id": "Gh9sGiyJQScL"
      }
    },
    {
      "cell_type": "code",
      "source": [
        "import numpy as np\n",
        "\n",
        "l = [[1, 2, 3, 4],[5, 6, 7, 8],[9, 10, 11, 12]]\n",
        "\n",
        "arr = np.array(l)\n",
        "\n",
        "size = np.size\n",
        "print(size)\n",
        "\n",
        "shape = arr.shape\n",
        "print(shape)\n",
        "\n",
        "dime = arr.ndim\n",
        "print(dime)\n"
      ],
      "metadata": {
        "colab": {
          "base_uri": "https://localhost:8080/"
        },
        "id": "0KEZDmcrFEl0",
        "outputId": "b6632a35-3629-45bb-e80d-b6541aa5a713"
      },
      "execution_count": 7,
      "outputs": [
        {
          "output_type": "stream",
          "name": "stdout",
          "text": [
            "<function size at 0x7f5b6d999080>\n",
            "(3, 4)\n",
            "2\n"
          ]
        }
      ]
    },
    {
      "cell_type": "markdown",
      "source": [
        "4. Write python code to access the first row of the following array?\n",
        "\n",
        "[[1, 2, 3, 4]\n",
        "\n",
        "[5, 6, 7, 8],\n",
        "\n",
        "[9, 10, 11, 12]]"
      ],
      "metadata": {
        "id": "aMzeUNgXQSYu"
      }
    },
    {
      "cell_type": "code",
      "source": [
        "l2 =[[1, 2, 3, 4],[5, 6, 7, 8],[9, 10, 11, 12]]\n",
        "arr = np.array(l2)\n",
        "\n",
        "\n",
        "arr[0]"
      ],
      "metadata": {
        "colab": {
          "base_uri": "https://localhost:8080/"
        },
        "id": "bH4e5dDqIHMo",
        "outputId": "0500a194-cdf4-40d4-a8e8-4851a6a0b27b"
      },
      "execution_count": 9,
      "outputs": [
        {
          "output_type": "execute_result",
          "data": {
            "text/plain": [
              "array([1, 2, 3, 4])"
            ]
          },
          "metadata": {},
          "execution_count": 9
        }
      ]
    },
    {
      "cell_type": "markdown",
      "source": [
        "5. How do you access the element at the third row and fourth column from the given numpy array?\n",
        "\n",
        "[[1, 2, 3, 4]\n",
        "\n",
        "[5, 6, 7, 8],\n",
        "\n",
        "[9, 10, 11, 12]]"
      ],
      "metadata": {
        "id": "W9HX-_hHQSVn"
      }
    },
    {
      "cell_type": "code",
      "source": [
        "l2 =[[1, 2, 3, 4],[5, 6, 7, 8],[9, 10, 11, 12]]\n",
        "arr = np.array(l2)\n",
        "\n",
        "arr[2,3]\n"
      ],
      "metadata": {
        "colab": {
          "base_uri": "https://localhost:8080/"
        },
        "id": "3ibw66oWIsUe",
        "outputId": "914c1d09-1bbc-4db4-de56-f130b804b8a2"
      },
      "execution_count": 13,
      "outputs": [
        {
          "output_type": "execute_result",
          "data": {
            "text/plain": [
              "np.int64(12)"
            ]
          },
          "metadata": {},
          "execution_count": 13
        }
      ]
    },
    {
      "cell_type": "markdown",
      "source": [
        "6. Write code to extract all odd-indexed elements from the given numpy array?\n",
        "\n",
        "[[1, 2, 3, 4]\n",
        "\n",
        "[5, 6, 7, 8],\n",
        "\n",
        "[9, 10, 11, 12]]"
      ],
      "metadata": {
        "id": "euMNqPGiQSSA"
      }
    },
    {
      "cell_type": "code",
      "source": [
        "l2 =[[1, 2, 3, 4],[5, 6, 7, 8],[9, 10, 11, 12]]\n",
        "arr = np.array(l2)\n",
        "\n",
        "arr[1::2]"
      ],
      "metadata": {
        "colab": {
          "base_uri": "https://localhost:8080/"
        },
        "id": "mGLQR9A2JJjY",
        "outputId": "a7350799-ac1e-466d-90e6-97233617f101"
      },
      "execution_count": 14,
      "outputs": [
        {
          "output_type": "execute_result",
          "data": {
            "text/plain": [
              "array([[5, 6, 7, 8]])"
            ]
          },
          "metadata": {},
          "execution_count": 14
        }
      ]
    },
    {
      "cell_type": "markdown",
      "source": [
        "7. How can you generate a random 3x3 matrix with values between 0 and 1?"
      ],
      "metadata": {
        "id": "rytxKRdbQSOb"
      }
    },
    {
      "cell_type": "code",
      "source": [
        "import random\n",
        "\n",
        "random_matrix = np.random.rand(3, 3)\n",
        "\n",
        "print(random_matrix)"
      ],
      "metadata": {
        "colab": {
          "base_uri": "https://localhost:8080/"
        },
        "id": "k7ZCCPe-JzpM",
        "outputId": "e064c5b9-ac86-4cfd-a701-b696aba403db"
      },
      "execution_count": 15,
      "outputs": [
        {
          "output_type": "stream",
          "name": "stdout",
          "text": [
            "[[0.55975906 0.81904357 0.85185056]\n",
            " [0.24965595 0.55526617 0.28161983]\n",
            " [0.21980425 0.04451588 0.36718508]]\n"
          ]
        }
      ]
    },
    {
      "cell_type": "markdown",
      "source": [
        "8. Describe the difference between np.random.rand and np.random.randn?"
      ],
      "metadata": {
        "id": "H2sfhKKfQ318"
      }
    },
    {
      "cell_type": "markdown",
      "source": [
        "1. np.random.rand\n",
        "\n",
        "- Generates random numbers from a uniform distribution over the interval [0, 1).\n",
        "- This means that all values within this interval have an equal probability of being generated.\n",
        "- The numbers generated are uniformly spread out between 0 and 1.\n",
        "\n",
        "2. np.random.randn\n",
        "\n",
        "- Generates random numbers from a standard normal distribution (also known as a Gaussian distribution) with a mean of 0 and a standard deviation of 1.\n",
        "- This distribution is bell-shaped, with most values clustered around the mean (0) and fewer values further away.\n",
        "- The numbers generated can be positive or negative and are more likely to be close to 0.\n",
        "\n",
        "3. In summary:\n",
        "\n",
        "- np.random.rand: Uniform distribution, values between 0 and 1.\n",
        "- np.random.randn: Standard normal distribution, values centered around 0."
      ],
      "metadata": {
        "id": "P0_ByoDqORbA"
      }
    },
    {
      "cell_type": "markdown",
      "source": [
        "9. Write code to increase the dimension of the following array?\n",
        "\n",
        "[[1, 2, 3, 4]\n",
        "\n",
        "[5, 6, 7, 8],\n",
        "\n",
        "[9, 10, 11, 12]]"
      ],
      "metadata": {
        "id": "EDhqKY_7Q4Tp"
      }
    },
    {
      "cell_type": "code",
      "source": [
        "arr = np.array([[1, 2, 3, 4], [5, 6, 7, 8], [9, 10, 11, 12]])\n",
        "\n",
        "new_arr = np.expand_dims(arr, axis=0)  # Add new axis at the beginning (axis=0)\n",
        "# or\n",
        "new_arr = np.expand_dims(arr, axis=-1)  # Add new axis at the end (axis=-1)\n",
        "\n",
        "\n",
        "print(\"Original array shape:\", arr.shape)\n",
        "print(\"New array shape:\", new_arr.shape)"
      ],
      "metadata": {
        "colab": {
          "base_uri": "https://localhost:8080/"
        },
        "id": "CbcQEXHTKuYa",
        "outputId": "3dd1e565-d820-42b0-bd97-6916da711948"
      },
      "execution_count": 16,
      "outputs": [
        {
          "output_type": "stream",
          "name": "stdout",
          "text": [
            "Original array shape: (3, 4)\n",
            "New array shape: (3, 4, 1)\n"
          ]
        }
      ]
    },
    {
      "cell_type": "markdown",
      "source": [
        "10. How to transpose the following array in NumPy?\n",
        "\n",
        "[[1, 2, 3, 4]\n",
        "\n",
        "[5, 6, 7, 8],\n",
        "\n",
        "[9, 10, 11, 12]]"
      ],
      "metadata": {
        "id": "k_SocjAVQ5Aa"
      }
    },
    {
      "cell_type": "code",
      "source": [
        "import numpy as np\n",
        "\n",
        "arr = np.array([[1, 2, 3, 4], [5, 6, 7, 8], [9, 10, 11, 12]])\n",
        "\n",
        "# Transpose the array\n",
        "transposed_arr = arr.T  # Using the .T attribute\n",
        "# or\n",
        "transposed_arr = np.transpose(arr)  # Using the np.transpose() function\n",
        "\n",
        "print(\"Original array:\\n\", arr)\n",
        "print(\"\\nTransposed array:\\n\", transposed_arr)"
      ],
      "metadata": {
        "colab": {
          "base_uri": "https://localhost:8080/"
        },
        "id": "bdFiueYJMsOP",
        "outputId": "8a843aae-cdb8-443c-fa96-5058b424f780"
      },
      "execution_count": 17,
      "outputs": [
        {
          "output_type": "stream",
          "name": "stdout",
          "text": [
            "Original array:\n",
            " [[ 1  2  3  4]\n",
            " [ 5  6  7  8]\n",
            " [ 9 10 11 12]]\n",
            "\n",
            "Transposed array:\n",
            " [[ 1  5  9]\n",
            " [ 2  6 10]\n",
            " [ 3  7 11]\n",
            " [ 4  8 12]]\n"
          ]
        }
      ]
    },
    {
      "cell_type": "markdown",
      "source": [
        "11. Consider the following matrix:\n",
        "\n",
        "Matrix A: [[1, 2, 3, 4] [5, 6, 7, 8],[9, 10, 11, 12]]\n",
        "\n",
        "Matrix B: [[1, 2, 3, 4] [5, 6, 7, 8],[9, 10, 11, 12]]\n",
        "\n",
        "Perform the following operation using Python1\n",
        "\n",
        " 1. Index wise multiplication\n",
        "\n",
        " 2. Matrix multiplication\n",
        "\n",
        " 3. Add both the matrics\n",
        "\n",
        " 4. Subtract matrix B from A\n",
        "\n",
        " 5. Divide Matrix B by A"
      ],
      "metadata": {
        "id": "OCT98k-LRDsS"
      }
    },
    {
      "cell_type": "code",
      "source": [
        "import numpy as np\n",
        "\n",
        "# Define matrices A and B\n",
        "A = np.array([[1, 2, 3, 4], [5, 6, 7, 8], [9, 10, 11, 12]])\n",
        "B = np.array([[1, 2, 3, 4], [5, 6, 7, 8], [9, 10, 11, 12]])\n",
        "\n",
        "# 1. Index-wise multiplication\n",
        "index_wise_mult = A * B\n",
        "print(\"Index-wise multiplication:\\n\", index_wise_mult)\n",
        "\n",
        "# 2. Matrix multiplication\n",
        "matrix_mult = A @ B.T  # Need to transpose B for valid matrix multiplication\n",
        "# or\n",
        "matrix_mult = np.matmul(A, B.T)  # Alternative way using np.matmul\n",
        "print(\"\\nMatrix multiplication:\\n\", matrix_mult)\n",
        "\n",
        "# 3. Add both matrices\n",
        "addition = A + B\n",
        "print(\"\\nAddition:\\n\", addition)\n",
        "\n",
        "# 4. Subtract matrix B from A\n",
        "subtraction = A - B\n",
        "print(\"\\nSubtraction:\\n\", subtraction)\n",
        "\n",
        "# 5. Divide Matrix B by A\n",
        "division = B / A\n",
        "print(\"\\nDivision:\\n\", division)"
      ],
      "metadata": {
        "id": "T32_85tGM9Oj"
      },
      "execution_count": null,
      "outputs": []
    },
    {
      "cell_type": "markdown",
      "source": [
        "12. Which function in Numpy can be used to swap the byte order of an array?\n"
      ],
      "metadata": {
        "id": "C86zOELIQSBh"
      }
    },
    {
      "cell_type": "code",
      "source": [
        "import numpy as np\n",
        "\n",
        "arr = np.array([1, 2, 3, 4], dtype=np.int32)  # Example array\n",
        "\n",
        "# Swap byte order in-place\n",
        "arr.byteswap(inplace=True)\n",
        "\n",
        "# Or, create a new array with swapped byte order\n",
        "new_arr = arr.byteswap(inplace=False)"
      ],
      "metadata": {
        "id": "kuzvHuxUM9--"
      },
      "execution_count": null,
      "outputs": []
    },
    {
      "cell_type": "markdown",
      "source": [
        "13. What is the significance of the np.linalg.inv function?\n"
      ],
      "metadata": {
        "id": "7i7-vbP1QWx-"
      }
    },
    {
      "cell_type": "markdown",
      "source": [
        "1. Solving Linear Equations: The inverse of a matrix is crucial for solving systems of linear equations. If you have an equation of the form Ax = b, where A is a matrix, x is a vector of unknowns, and b is a known vector, you can find the solution for x by calculating the inverse of A and multiplying it with b: x = A⁻¹b.\n",
        "\n",
        "2. Matrix Operations: The inverse is used in various matrix operations, such as:\n",
        "\n",
        "a) Calculating the determinant of a matrix.\n",
        "Finding the eigenvalues and eigenvectors of a matrix.\n",
        "b) Performing matrix decompositions (e.g., LU decomposition).\n",
        "\n",
        "3. Linear Transformations: In linear algebra, matrices represent linear transformations. The inverse of a matrix represents the inverse transformation, which undoes the original transformation.\n",
        "\n",
        "4. Applications: Matrix inverses have numerous applications in various fields, including:\n",
        "\n",
        "a)Computer graphics: Transforming objects in 3D space.\n",
        "b)Robotics: Controlling robot movements.\n",
        "c)Machine learning: Solving optimization problems.\n",
        "d)Physics: Solving equations of motion."
      ],
      "metadata": {
        "id": "VOsUIf0sNVqI"
      }
    },
    {
      "cell_type": "markdown",
      "source": [
        "14. What does the np.reshape function do, and how is it used?\n"
      ],
      "metadata": {
        "id": "ECscZL9HQYdh"
      }
    },
    {
      "cell_type": "code",
      "source": [
        "import numpy as np\n",
        "\n",
        "arr = np.array([1, 2, 3, 4, 5, 6])  # Original array\n",
        "\n",
        "# Reshape to a 2x3 array\n",
        "new_arr = np.reshape(arr, (2, 3))\n",
        "\n",
        "print(\"Original array:\\n\", arr)\n",
        "print(\"\\nReshaped array:\\n\", new_arr)\n",
        "\n",
        "'''\n",
        "The np.reshape function is used to change the shape of a NumPy array without changing its data.\n",
        "It gives a new shape to an array without changing its data.\n",
        "'''\n"
      ],
      "metadata": {
        "id": "lqghSRdANyS_"
      },
      "execution_count": null,
      "outputs": []
    },
    {
      "cell_type": "markdown",
      "source": [
        "15. What is broadcasting in Numpy?"
      ],
      "metadata": {
        "id": "83O5KyoHQaJD"
      }
    },
    {
      "cell_type": "markdown",
      "source": [
        "- Broadcasting is a powerful mechanism in NumPy that allows you to perform arithmetic operations on arrays with different shapes, as long as certain conditions are met. Subject to certain constraints, the smaller array is “broadcast” across the larger array so that they have compatible shapes.\n",
        "\n",
        "1. Shape Compatibility: Broadcasting works by comparing the shapes of the arrays involved in an operation, starting with the trailing dimensions (rightmost) and working backward.\n",
        "\n",
        "2. Rules for Broadcasting: Two dimensions are compatible if:\n",
        "\n",
        "They are equal.\n",
        "One of them is 1.\n",
        "\n",
        "3. Automatic Expansion: If the dimensions are compatible, NumPy automatically expands the smaller array to match the shape of the larger array by replicating its elements along the necessary dimensions.\n",
        "\n",
        "4. Element-wise Operation: Once the arrays have compatible shapes, the operation is performed element-wise.\n"
      ],
      "metadata": {
        "id": "19S754dhN9T8"
      }
    }
  ]
}